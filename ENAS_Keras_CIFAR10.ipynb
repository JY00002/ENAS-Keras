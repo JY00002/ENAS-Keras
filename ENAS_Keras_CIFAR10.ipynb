{
 "cells": [
  {
   "cell_type": "code",
   "execution_count": 1,
   "metadata": {
    "colab": {
     "autoexec": {
      "startup": false,
      "wait_interval": 0
     },
     "base_uri": "https://localhost:8080/",
     "height": 34
    },
    "colab_type": "code",
    "executionInfo": {
     "elapsed": 1773,
     "status": "ok",
     "timestamp": 1531705057855,
     "user": {
      "displayName": "cv usk",
      "photoUrl": "//lh5.googleusercontent.com/--UQyF-cisE4/AAAAAAAAAAI/AAAAAAACcCg/nW1mf571W7o/s50-c-k-no/photo.jpg",
      "userId": "103824322408948109555"
     },
     "user_tz": -540
    },
    "id": "L8PLWMnE1e_5",
    "outputId": "a22a2442-0ba3-4cfd-90d9-8d2103478b64"
   },
   "outputs": [
    {
     "name": "stderr",
     "output_type": "stream",
     "text": [
      "/opt/anaconda3/lib/python3.6/site-packages/h5py/__init__.py:36: FutureWarning: Conversion of the second argument of issubdtype from `float` to `np.floating` is deprecated. In future, it will be treated as `np.float64 == np.dtype(float).type`.\n",
      "  from ._conv import register_converters as _register_converters\n",
      "Using TensorFlow backend.\n"
     ]
    }
   ],
   "source": [
    "import numpy as np\n",
    "import os\n",
    "import sys\n",
    "import shutil\n",
    "import gc\n",
    "from copy import deepcopy\n",
    "\n",
    "import keras\n",
    "from keras import backend as K\n",
    "from keras.utils import to_categorical\n",
    "from keras.optimizers import Adam,SGD\n",
    "from keras.datasets import cifar10\n",
    "from keras.preprocessing.image import ImageDataGenerator\n",
    "from keras.callbacks import EarlyStopping, LearningRateScheduler\n",
    "\n",
    "import tensorflow as tf"
   ]
  },
  {
   "cell_type": "code",
   "execution_count": null,
   "metadata": {},
   "outputs": [],
   "source": []
  },
  {
   "cell_type": "code",
   "execution_count": 2,
   "metadata": {},
   "outputs": [],
   "source": [
    "from ENAS import EfficientNeuralArchitectureSearch\n",
    "from src.utils import sgdr_learning_rate, get_random_eraser, MixupGenerator"
   ]
  },
  {
   "cell_type": "code",
   "execution_count": null,
   "metadata": {},
   "outputs": [],
   "source": []
  },
  {
   "cell_type": "code",
   "execution_count": null,
   "metadata": {},
   "outputs": [],
   "source": [
    "# Load Cifar10 dataset"
   ]
  },
  {
   "cell_type": "code",
   "execution_count": null,
   "metadata": {
    "colab": {
     "autoexec": {
      "startup": false,
      "wait_interval": 0
     },
     "base_uri": "https://localhost:8080/",
     "height": 122
    },
    "colab_type": "code",
    "executionInfo": {
     "elapsed": 1388,
     "status": "ok",
     "timestamp": 1531705075174,
     "user": {
      "displayName": "cv usk",
      "photoUrl": "//lh5.googleusercontent.com/--UQyF-cisE4/AAAAAAAAAAI/AAAAAAACcCg/nW1mf571W7o/s50-c-k-no/photo.jpg",
      "userId": "103824322408948109555"
     },
     "user_tz": -540
    },
    "id": "uxO5YcMv2Ikg",
    "outputId": "1d9a5a0f-5607-4295-ee24-08b3ed0f7623"
   },
   "outputs": [],
   "source": [
    "child_classes = 10\n",
    "\n",
    "(x_train, y_train), (x_test, y_test) = cifar10.load_data()\n",
    "if child_classes != 10:\n",
    "    train_part = np.where(y_train<child_classes)[0]\n",
    "    test_part = np.where(y_test<child_classes)[0]\n",
    "    x_train = x_train[train_part]\n",
    "    y_train = y_train[train_part]\n",
    "    x_test = x_test[test_part]\n",
    "    y_test = y_test[test_part]\n",
    "    \n",
    "x_train = x_train.astype('float32')\n",
    "x_test = x_test.astype('float32')\n",
    "x_train /= 255\n",
    "x_test /= 255\n",
    "\n",
    "# Convert class vectors to binary class matrices.\n",
    "y_train = to_categorical(y_train, child_classes)\n",
    "y_test = to_categorical(y_test, child_classes)\n",
    "\n",
    "print('x_train shape:', x_train.shape)\n",
    "print('x_test shape:', x_test.shape)\n",
    "print('y_train shape:', y_train.shape)\n",
    "print('y_test shape:', y_test.shape)\n",
    "print(x_train.shape[0], 'train samples')\n",
    "print(x_test.shape[0], 'test samples')"
   ]
  },
  {
   "cell_type": "code",
   "execution_count": null,
   "metadata": {},
   "outputs": [],
   "source": []
  },
  {
   "cell_type": "code",
   "execution_count": null,
   "metadata": {},
   "outputs": [],
   "source": [
    "child_data_gen = ImageDataGenerator(\n",
    "    rotation_range=90, \n",
    "    width_shift_range=0.1,\n",
    "    height_shift_range=0.1,\n",
    "    horizontal_flip=True,\n",
    "    preprocessing_function=get_random_eraser(v_l=0, v_h=255)) "
   ]
  },
  {
   "cell_type": "code",
   "execution_count": null,
   "metadata": {},
   "outputs": [],
   "source": [
    "data_flow_gen = MixupGenerator(x_train, y_train, batch_size=128, alpha=0.2, datagen=child_data_gen)()"
   ]
  },
  {
   "cell_type": "code",
   "execution_count": 15,
   "metadata": {},
   "outputs": [],
   "source": []
  },
  {
   "cell_type": "code",
   "execution_count": 18,
   "metadata": {},
   "outputs": [],
   "source": [
    "nt = sgdr_learning_rate(n_Max=0.05, n_min=0.001, ranges=5, init_cycle=10)"
   ]
  },
  {
   "cell_type": "code",
   "execution_count": null,
   "metadata": {},
   "outputs": [],
   "source": []
  },
  {
   "cell_type": "code",
   "execution_count": null,
   "metadata": {},
   "outputs": [],
   "source": []
  },
  {
   "cell_type": "code",
   "execution_count": null,
   "metadata": {
    "scrolled": true
   },
   "outputs": [],
   "source": [
    "ENAS = EfficientNeuralArchitectureSearch(x_train=x_train,\n",
    "                               y_train=y_train,\n",
    "                               x_test=x_test,\n",
    "                               y_test=y_test,\n",
    "                               child_network_name=\"cifar10_cnn\",\n",
    "                               child_classes=child_classes,\n",
    "                               child_input_shape=(32,32,3),\n",
    "                               num_nodes=7,\n",
    "                               num_opers=5,\n",
    "                               controller_lstm_cell_units = 32,\n",
    "                               controller_baseline_decay = 0.99,\n",
    "                               controller_opt = Adam(lr=0.00035, decay=1e-3, amsgrad=True),\n",
    "                               controller_batch_size = 1,\n",
    "                               controller_epochs = 50,\n",
    "                               controller_callbacks = [EarlyStopping(monitor='val_loss', patience=1, verbose=1, mode='auto')],\n",
    "                               controller_temperature = 5.0,\n",
    "                               controller_tanh_constant = 2.5,\n",
    "                               controller_normal_model_file = \"cifar10_normal_controller.hdf5\",\n",
    "                               controller_reduction_model_file = \"cifar10_reduction_controller.hdf5\",\n",
    "                               child_init_filters=64,\n",
    "                               child_network_definition=[\"N\",\"N\",\"R\",\"N\",\"N\",\"R\"],\n",
    "                               child_weight_directory=\"./cifar10_weights\",\n",
    "                               child_opt_loss='categorical_crossentropy',\n",
    "                               child_opt=SGD(lr=0.05, nesterov=True),\n",
    "                               child_opt_metrics=['accuracy'],\n",
    "                               child_val_batch_size = 128,\n",
    "                               child_batch_size = 128,\n",
    "                               child_epochs = len(nt),\n",
    "                               child_lr_scedule = nt,\n",
    "                               start_from_record=True,\n",
    "                               run_on_jupyter = False,\n",
    "                               initialize_child_weight_directory=False,\n",
    "                               save_to_disk=True,\n",
    "                               set_from_dict=True,\n",
    "                               data_gen=child_data_gen,\n",
    "                               data_flow_gen=data_flow_gen)"
   ]
  },
  {
   "cell_type": "code",
   "execution_count": null,
   "metadata": {},
   "outputs": [],
   "source": [
    "ENAS.search_neural_architecture()"
   ]
  },
  {
   "cell_type": "code",
   "execution_count": null,
   "metadata": {},
   "outputs": [],
   "source": [
    "ENAS.train_best_cells()"
   ]
  },
  {
   "cell_type": "code",
   "execution_count": null,
   "metadata": {},
   "outputs": [],
   "source": []
  }
 ],
 "metadata": {
  "accelerator": "GPU",
  "colab": {
   "collapsed_sections": [],
   "default_view": {},
   "name": "ENAS_Keras.ipynb",
   "provenance": [],
   "version": "0.3.2",
   "views": {}
  },
  "kernelspec": {
   "display_name": "Python 3",
   "language": "python",
   "name": "python3"
  },
  "language_info": {
   "codemirror_mode": {
    "name": "ipython",
    "version": 3
   },
   "file_extension": ".py",
   "mimetype": "text/x-python",
   "name": "python",
   "nbconvert_exporter": "python",
   "pygments_lexer": "ipython3",
   "version": "3.6.5"
  }
 },
 "nbformat": 4,
 "nbformat_minor": 1
}
